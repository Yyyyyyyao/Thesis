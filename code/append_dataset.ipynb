{
 "cells": [
  {
   "cell_type": "code",
   "execution_count": 1,
   "metadata": {},
   "outputs": [],
   "source": [
    "import pandas as pd\n",
    "import numpy as np"
   ]
  },
  {
   "cell_type": "code",
   "execution_count": 2,
   "metadata": {},
   "outputs": [],
   "source": [
    "df_01 = pd.read_csv('xg_2017_01_final.csv')\n",
    "df_02 = pd.read_csv('xg_2017_02_step2_Alltime.csv')"
   ]
  },
  {
   "cell_type": "code",
   "execution_count": 3,
   "metadata": {},
   "outputs": [],
   "source": [
    "cols = ['dayofweek', 'PULocationID', 'Hours', 'time1', 'time2', 'time3', 'count']"
   ]
  },
  {
   "cell_type": "code",
   "execution_count": 4,
   "metadata": {},
   "outputs": [],
   "source": [
    "df_01 = df_01[cols]"
   ]
  },
  {
   "cell_type": "code",
   "execution_count": 5,
   "metadata": {},
   "outputs": [],
   "source": [
    "df_02 = df_02[cols]"
   ]
  },
  {
   "cell_type": "code",
   "execution_count": 7,
   "metadata": {},
   "outputs": [],
   "source": [
    "df_01.to_csv('normalized_dataset/xg_2017_01_UNnormal.csv', index=False)\n",
    "df_02.to_csv('normalized_dataset/xg_2017_02_UNnormal.csv', index=False)"
   ]
  },
  {
   "cell_type": "code",
   "execution_count": 8,
   "metadata": {},
   "outputs": [],
   "source": [
    "df_01_location_43 = df_01.loc[df_01['PULocationID'] == 43]\n",
    "df_02_location_43 = df_02.loc[df_02['PULocationID'] == 43]\n",
    "df_01_location_43.to_csv('normalized_dataset/df_01_location_43_UNnormal.csv', index=False)\n",
    "df_02_location_43.to_csv('normalized_dataset/df_02_location_43_UNnormal.csv', index=False)\n",
    "\n",
    "df_01_location_12 = df_01.loc[df_01['PULocationID'] == 12]\n",
    "df_02_location_12 = df_02.loc[df_02['PULocationID'] == 12]\n",
    "df_01_location_12.to_csv('normalized_dataset/df_01_location_12_UNnormal.csv', index=False)\n",
    "df_02_location_12.to_csv('normalized_dataset/df_02_location_12_UNnormal.csv', index=False)\n",
    "\n",
    "df_01_location_161 = df_01.loc[df_01['PULocationID'] == 161]\n",
    "df_02_location_161 = df_02.loc[df_02['PULocationID'] == 161]\n",
    "df_01_location_161.to_csv('normalized_dataset/df_01_location_161_UNnormal.csv', index=False)\n",
    "df_02_location_161.to_csv('normalized_dataset/df_02_location_161_UNnormal.csv', index=False)\n",
    "\n",
    "df_01_location_132 = df_01.loc[df_01['PULocationID'] == 132]\n",
    "df_02_location_132 = df_02.loc[df_02['PULocationID'] == 132]\n",
    "df_01_location_132.to_csv('normalized_dataset/df_01_location_132_UNnormal.csv', index=False)\n",
    "df_02_location_132.to_csv('normalized_dataset/df_02_location_132_UNnormal.csv', index=False)\n",
    "\n",
    "df_01_location_138 = df_01.loc[df_01['PULocationID'] == 138]\n",
    "df_02_location_138 = df_02.loc[df_02['PULocationID'] == 138]\n",
    "df_01_location_138.to_csv('normalized_dataset/df_01_location_138_UNnormal.csv', index=False)\n",
    "df_02_location_138.to_csv('normalized_dataset/df_02_location_138_UNnormal.csv', index=False)\n",
    "\n",
    "df_01_location_2 = df_01.loc[df_01['PULocationID'] == 2]\n",
    "df_02_location_2 = df_02.loc[df_02['PULocationID'] == 2]\n",
    "df_01_location_2.to_csv('normalized_dataset/df_01_location_2_UNnormal.csv', index=False)\n",
    "df_02_location_2.to_csv('normalized_dataset/df_02_location_2_UNnormal.csv', index=False)"
   ]
  },
  {
   "cell_type": "code",
   "execution_count": 6,
   "metadata": {},
   "outputs": [],
   "source": [
    "sum_df = df_01.append(df_02, ignore_index=True)"
   ]
  },
  {
   "cell_type": "code",
   "execution_count": 7,
   "metadata": {},
   "outputs": [],
   "source": [
    "sum_df.to_csv('xg_2017_0102Combine_UNnorm.csv', index=False)"
   ]
  },
  {
   "cell_type": "code",
   "execution_count": 13,
   "metadata": {},
   "outputs": [
    {
     "data": {
      "text/plain": [
       "2149"
      ]
     },
     "execution_count": 13,
     "metadata": {},
     "output_type": "execute_result"
    }
   ],
   "source": [
    "sum_df['count'].max()"
   ]
  },
  {
   "cell_type": "code",
   "execution_count": 14,
   "metadata": {},
   "outputs": [],
   "source": [
    "sum_df['dayofweek'] = sum_df['dayofweek'] / 6\n",
    "sum_df['Hours'] = sum_df['Hours'] / 23\n",
    "sum_df['time1'] = sum_df['time1'] / sum_df['time1'].max()\n",
    "sum_df['time2'] = sum_df['time2'] / sum_df['time2'].max()\n",
    "sum_df['time3'] = sum_df['time3'] / sum_df['time3'].max()\n",
    "sum_df['count'] = sum_df['count'] / sum_df['count'].max()\n",
    "sum_df['PULocationID'] = sum_df['PULocationID'] / sum_df['PULocationID'].max()"
   ]
  },
  {
   "cell_type": "code",
   "execution_count": 16,
   "metadata": {},
   "outputs": [],
   "source": [
    "sum_df.to_csv('xg_2017_0102Combine_Normalization.csv', index=False)"
   ]
  },
  {
   "cell_type": "code",
   "execution_count": null,
   "metadata": {},
   "outputs": [],
   "source": []
  }
 ],
 "metadata": {
  "kernelspec": {
   "display_name": "Python 3",
   "language": "python",
   "name": "python3"
  },
  "language_info": {
   "codemirror_mode": {
    "name": "ipython",
    "version": 3
   },
   "file_extension": ".py",
   "mimetype": "text/x-python",
   "name": "python",
   "nbconvert_exporter": "python",
   "pygments_lexer": "ipython3",
   "version": "3.7.4"
  }
 },
 "nbformat": 4,
 "nbformat_minor": 2
}
