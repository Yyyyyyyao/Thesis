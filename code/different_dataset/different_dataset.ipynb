{
 "cells": [
  {
   "cell_type": "code",
   "execution_count": 23,
   "metadata": {},
   "outputs": [],
   "source": [
    "import pandas as pd\n",
    "new_df = pd.read_csv('normalized_data_2017_01.csv')"
   ]
  },
  {
   "cell_type": "code",
   "execution_count": 26,
   "metadata": {},
   "outputs": [],
   "source": [
    "df_withoutTime = new_df[['dayofweek', 'Hours', 'PULocationID', 'count']]\n",
    "df_withoutTime.to_csv('different_dataset/df_withoutTime.csv', index=False)"
   ]
  },
  {
   "cell_type": "code",
   "execution_count": 39,
   "metadata": {},
   "outputs": [],
   "source": [
    "df_withoutLocation = new_df[['dayofweek', 'Hours', 'time1', 'time2', 'time3', 'count']]\n",
    "df_withoutLocation.to_csv('different_dataset/df_withoutLocation.csv', index=False)"
   ]
  },
  {
   "cell_type": "code",
   "execution_count": 40,
   "metadata": {},
   "outputs": [],
   "source": [
    "df_withoutDayofweek = new_df[[ 'Hours', 'time1', 'time2', 'time3','PULocationID', 'count']]\n",
    "df_withoutDayofweek.to_csv('different_dataset/df_withoutDayofweek.csv', index=False)"
   ]
  },
  {
   "cell_type": "code",
   "execution_count": 41,
   "metadata": {},
   "outputs": [],
   "source": [
    "df_withoutHour = new_df[['dayofweek', 'time1', 'time2', 'time3','PULocationID', 'count']]\n",
    "df_withoutHour.to_csv('different_dataset/df_withoutHour.csv', index=False)"
   ]
  },
  {
   "cell_type": "code",
   "execution_count": 42,
   "metadata": {},
   "outputs": [],
   "source": [
    "df_withoutTime1 = new_df[['dayofweek', 'Hours', 'time2', 'time3','PULocationID', 'count']]\n",
    "df_withoutTime1.to_csv('different_dataset/df_withoutTime1.csv', index=False)"
   ]
  },
  {
   "cell_type": "code",
   "execution_count": 43,
   "metadata": {},
   "outputs": [],
   "source": [
    "df_withoutTime12 = new_df[['dayofweek', 'Hours', 'time3','PULocationID', 'count']]\n",
    "df_withoutTime12.to_csv('different_dataset/df_withoutTime12.csv', index=False)"
   ]
  },
  {
   "cell_type": "code",
   "execution_count": 38,
   "metadata": {},
   "outputs": [],
   "source": []
  },
  {
   "cell_type": "code",
   "execution_count": null,
   "metadata": {},
   "outputs": [],
   "source": []
  }
 ],
 "metadata": {
  "kernelspec": {
   "display_name": "Python 3",
   "language": "python",
   "name": "python3"
  },
  "language_info": {
   "codemirror_mode": {
    "name": "ipython",
    "version": 3
   },
   "file_extension": ".py",
   "mimetype": "text/x-python",
   "name": "python",
   "nbconvert_exporter": "python",
   "pygments_lexer": "ipython3",
   "version": "3.7.4"
  }
 },
 "nbformat": 4,
 "nbformat_minor": 2
}
