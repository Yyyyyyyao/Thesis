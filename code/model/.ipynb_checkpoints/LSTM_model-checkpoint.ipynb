{
 "cells": [
  {
   "cell_type": "code",
   "execution_count": 1,
   "metadata": {},
   "outputs": [
    {
     "name": "stderr",
     "output_type": "stream",
     "text": [
      "Using TensorFlow backend.\n"
     ]
    }
   ],
   "source": [
    "import pandas as pd\n",
    "from sklearn.metrics import mean_squared_error\n",
    "import numpy as np\n",
    "import xgboost as xgb\n",
    "from sklearn.model_selection import train_test_split\n",
    "import statistics\n",
    "from sklearn.preprocessing import normalize\n",
    "\n",
    "\n",
    "import matplotlib.pyplot as plt\n",
    "import math\n",
    "from keras.models import Sequential\n",
    "from keras.layers import Dense\n",
    "from keras.layers import LSTM\n",
    "from sklearn.preprocessing import MinMaxScaler\n",
    "from sklearn.metrics import mean_squared_error"
   ]
  },
  {
   "cell_type": "code",
   "execution_count": 47,
   "metadata": {},
   "outputs": [],
   "source": [
    "\n",
    "new_df = pd.read_csv('../normalized_data_2017_01.csv')\n",
    "\n",
    "X, y = new_df.iloc[:, :-1], new_df.iloc[:, -1]\n",
    "\n",
    "# default -> 8:2\n",
    "# 5:5\n",
    "# 6:4\n",
    "# 4:6\n",
    "# 3:7\n",
    "X_train, X_test, y_train, y_test = train_test_split(X, y, test_size = 0.95, random_state = 123)\n",
    "\n",
    "n_steps = X_train.shape[1]\n",
    "n_features = 1\n",
    "\n",
    "X_train = X_train.values.reshape((X_train.shape[0], X_train.shape[1], n_features))\n",
    "X_test = X_test.values.reshape((X_test.shape[0], X_test.shape[1], n_features))\n",
    "\n",
    "\n",
    "\n",
    "\n",
    "# model 1 50-1-1 - default\n",
    "\n",
    "model = Sequential()\n",
    "model.add(LSTM((50), activation='relu', batch_input_shape=(None, 6, 1), return_sequences=True))\n",
    "model.add(LSTM((1),return_sequences=False))\n",
    "model.add(Dense(1))\n",
    "model.compile(loss='mse', optimizer='adam',metrics=['accuracy'])\n",
    "\n",
    "# model 2 25-1-1\n",
    "# model.add(LSTM((25), activation='relu', batch_input_shape=(None, 6, 1), return_sequences=True))\n",
    "# model.add(LSTM((1),return_sequences=False))\n",
    "# model.add(Dense(1))\n",
    "\n",
    "# model 3 100-1-1\n",
    "# model.add(LSTM((100), activation='relu', batch_input_shape=(None, 6, 1), return_sequences=True))\n",
    "# model.add(LSTM((1),return_sequences=False))\n",
    "# model.add(Dense(1))\n",
    "\n",
    "\n"
   ]
  },
  {
   "cell_type": "code",
   "execution_count": 3,
   "metadata": {},
   "outputs": [
    {
     "name": "stdout",
     "output_type": "stream",
     "text": [
      "_________________________________________________________________\n",
      "Layer (type)                 Output Shape              Param #   \n",
      "=================================================================\n",
      "lstm_1 (LSTM)                (None, 6, 50)             10400     \n",
      "_________________________________________________________________\n",
      "lstm_2 (LSTM)                (None, 1)                 208       \n",
      "_________________________________________________________________\n",
      "dense_1 (Dense)              (None, 1)                 2         \n",
      "=================================================================\n",
      "Total params: 10,610\n",
      "Trainable params: 10,610\n",
      "Non-trainable params: 0\n",
      "_________________________________________________________________\n"
     ]
    }
   ],
   "source": [
    "model.summary()"
   ]
  },
  {
   "cell_type": "code",
   "execution_count": 48,
   "metadata": {
    "scrolled": true
   },
   "outputs": [
    {
     "name": "stdout",
     "output_type": "stream",
     "text": [
      "Train on 4475 samples, validate on 85039 samples\n",
      "Epoch 1/150\n",
      "4475/4475 [==============================] - 6s 1ms/step - loss: 0.0076 - acc: 0.0000e+00 - val_loss: 0.0052 - val_acc: 0.0000e+00\n",
      "Epoch 2/150\n",
      "4475/4475 [==============================] - 4s 939us/step - loss: 0.0023 - acc: 0.0000e+00 - val_loss: 0.0014 - val_acc: 0.0000e+00\n",
      "Epoch 3/150\n",
      "4475/4475 [==============================] - 4s 950us/step - loss: 0.0013 - acc: 0.0000e+00 - val_loss: 0.0011 - val_acc: 0.0000e+00\n",
      "Epoch 4/150\n",
      "4475/4475 [==============================] - 4s 937us/step - loss: 0.0012 - acc: 0.0000e+00 - val_loss: 0.0011 - val_acc: 0.0000e+00\n",
      "Epoch 5/150\n",
      "4475/4475 [==============================] - 4s 936us/step - loss: 0.0011 - acc: 0.0000e+00 - val_loss: 9.9175e-04 - val_acc: 0.0000e+00\n",
      "Epoch 6/150\n",
      "4475/4475 [==============================] - 4s 935us/step - loss: 0.0010 - acc: 0.0000e+00 - val_loss: 9.5378e-04 - val_acc: 0.0000e+00\n",
      "Epoch 7/150\n",
      "4475/4475 [==============================] - 4s 935us/step - loss: 9.9471e-04 - acc: 0.0000e+00 - val_loss: 9.7036e-04 - val_acc: 0.0000e+00\n",
      "Epoch 8/150\n",
      "4475/4475 [==============================] - 4s 932us/step - loss: 9.6370e-04 - acc: 0.0000e+00 - val_loss: 9.2919e-04 - val_acc: 0.0000e+00\n",
      "Epoch 9/150\n",
      "4475/4475 [==============================] - 4s 933us/step - loss: 9.7231e-04 - acc: 0.0000e+00 - val_loss: 8.9994e-04 - val_acc: 0.0000e+00\n",
      "Epoch 10/150\n",
      "4475/4475 [==============================] - 4s 932us/step - loss: 9.4128e-04 - acc: 0.0000e+00 - val_loss: 0.0011 - val_acc: 0.0000e+00\n",
      "Epoch 11/150\n",
      "4475/4475 [==============================] - 4s 933us/step - loss: 9.3864e-04 - acc: 0.0000e+00 - val_loss: 9.5293e-04 - val_acc: 0.0000e+00\n",
      "Epoch 12/150\n",
      "4475/4475 [==============================] - 4s 933us/step - loss: 9.2261e-04 - acc: 0.0000e+00 - val_loss: 8.7497e-04 - val_acc: 0.0000e+00\n",
      "Epoch 13/150\n",
      "4475/4475 [==============================] - 4s 931us/step - loss: 8.9537e-04 - acc: 0.0000e+00 - val_loss: 9.0553e-04 - val_acc: 0.0000e+00\n",
      "Epoch 14/150\n",
      "4475/4475 [==============================] - 4s 932us/step - loss: 9.1285e-04 - acc: 0.0000e+00 - val_loss: 9.1125e-04 - val_acc: 0.0000e+00\n",
      "Epoch 15/150\n",
      "4475/4475 [==============================] - 4s 932us/step - loss: 9.2165e-04 - acc: 0.0000e+00 - val_loss: 8.7634e-04 - val_acc: 0.0000e+00\n",
      "Epoch 16/150\n",
      "4475/4475 [==============================] - 4s 929us/step - loss: 9.2206e-04 - acc: 0.0000e+00 - val_loss: 8.7618e-04 - val_acc: 0.0000e+00\n",
      "Epoch 17/150\n",
      "4475/4475 [==============================] - 4s 932us/step - loss: 9.0051e-04 - acc: 0.0000e+00 - val_loss: 8.5937e-04 - val_acc: 1.1759e-05\n",
      "Epoch 18/150\n",
      "4475/4475 [==============================] - 4s 935us/step - loss: 8.7862e-04 - acc: 0.0000e+00 - val_loss: 8.7660e-04 - val_acc: 1.1759e-05\n",
      "Epoch 19/150\n",
      "4475/4475 [==============================] - 4s 935us/step - loss: 8.8967e-04 - acc: 0.0000e+00 - val_loss: 8.5716e-04 - val_acc: 1.1759e-05\n",
      "Epoch 20/150\n",
      "4475/4475 [==============================] - 4s 937us/step - loss: 8.7738e-04 - acc: 0.0000e+00 - val_loss: 8.5452e-04 - val_acc: 1.1759e-05\n",
      "Epoch 21/150\n",
      "4475/4475 [==============================] - 4s 933us/step - loss: 8.7763e-04 - acc: 0.0000e+00 - val_loss: 8.6625e-04 - val_acc: 1.1759e-05\n",
      "Epoch 22/150\n",
      "4475/4475 [==============================] - 4s 943us/step - loss: 8.6492e-04 - acc: 0.0000e+00 - val_loss: 8.6615e-04 - val_acc: 1.1759e-05\n",
      "Epoch 23/150\n",
      "4475/4475 [==============================] - 4s 931us/step - loss: 8.6564e-04 - acc: 0.0000e+00 - val_loss: 0.0012 - val_acc: 1.1759e-05\n",
      "Epoch 24/150\n",
      "4475/4475 [==============================] - 4s 933us/step - loss: 8.9022e-04 - acc: 0.0000e+00 - val_loss: 9.8273e-04 - val_acc: 1.1759e-05\n",
      "Epoch 25/150\n",
      "4475/4475 [==============================] - 4s 932us/step - loss: 8.5878e-04 - acc: 0.0000e+00 - val_loss: 0.0010 - val_acc: 1.1759e-05\n",
      "Epoch 26/150\n",
      "4475/4475 [==============================] - 4s 931us/step - loss: 8.7999e-04 - acc: 0.0000e+00 - val_loss: 8.4315e-04 - val_acc: 1.1759e-05\n",
      "Epoch 27/150\n",
      "4475/4475 [==============================] - 4s 933us/step - loss: 8.6651e-04 - acc: 0.0000e+00 - val_loss: 8.7177e-04 - val_acc: 1.1759e-05\n",
      "Epoch 28/150\n",
      "4475/4475 [==============================] - 4s 930us/step - loss: 8.7013e-04 - acc: 0.0000e+00 - val_loss: 8.7475e-04 - val_acc: 1.1759e-05\n",
      "Epoch 29/150\n",
      "4475/4475 [==============================] - 4s 929us/step - loss: 8.5365e-04 - acc: 0.0000e+00 - val_loss: 8.6759e-04 - val_acc: 1.1759e-05\n",
      "Epoch 30/150\n",
      "4475/4475 [==============================] - 4s 931us/step - loss: 8.4857e-04 - acc: 0.0000e+00 - val_loss: 8.4963e-04 - val_acc: 1.1759e-05\n",
      "Epoch 31/150\n",
      "4475/4475 [==============================] - 4s 930us/step - loss: 8.3826e-04 - acc: 0.0000e+00 - val_loss: 8.3004e-04 - val_acc: 1.1759e-05\n",
      "Epoch 32/150\n",
      "4475/4475 [==============================] - 4s 929us/step - loss: 8.4597e-04 - acc: 0.0000e+00 - val_loss: 8.2627e-04 - val_acc: 1.1759e-05\n",
      "Epoch 33/150\n",
      "4475/4475 [==============================] - 4s 932us/step - loss: 8.4522e-04 - acc: 0.0000e+00 - val_loss: 8.2842e-04 - val_acc: 1.1759e-05\n",
      "Epoch 34/150\n",
      "4475/4475 [==============================] - 4s 940us/step - loss: 8.3133e-04 - acc: 0.0000e+00 - val_loss: 8.7510e-04 - val_acc: 1.1759e-05\n",
      "Epoch 35/150\n",
      "4475/4475 [==============================] - 4s 937us/step - loss: 8.7569e-04 - acc: 0.0000e+00 - val_loss: 8.5755e-04 - val_acc: 1.1759e-05\n",
      "Epoch 36/150\n",
      "4475/4475 [==============================] - 4s 938us/step - loss: 8.4511e-04 - acc: 0.0000e+00 - val_loss: 8.2185e-04 - val_acc: 1.1759e-05\n",
      "Epoch 37/150\n",
      "4475/4475 [==============================] - 4s 938us/step - loss: 8.7317e-04 - acc: 0.0000e+00 - val_loss: 8.5711e-04 - val_acc: 1.1759e-05\n",
      "Epoch 38/150\n",
      "4475/4475 [==============================] - 4s 939us/step - loss: 8.3328e-04 - acc: 0.0000e+00 - val_loss: 9.0625e-04 - val_acc: 1.1759e-05\n",
      "Epoch 39/150\n",
      "4475/4475 [==============================] - 4s 938us/step - loss: 8.3195e-04 - acc: 0.0000e+00 - val_loss: 8.2369e-04 - val_acc: 1.1759e-05\n",
      "Epoch 40/150\n",
      "4475/4475 [==============================] - 4s 937us/step - loss: 8.4364e-04 - acc: 0.0000e+00 - val_loss: 8.4318e-04 - val_acc: 1.1759e-05\n",
      "Epoch 41/150\n",
      "4475/4475 [==============================] - 4s 941us/step - loss: 8.3922e-04 - acc: 0.0000e+00 - val_loss: 8.1349e-04 - val_acc: 1.1759e-05\n",
      "Epoch 42/150\n",
      "4475/4475 [==============================] - 4s 941us/step - loss: 8.4808e-04 - acc: 0.0000e+00 - val_loss: 9.1181e-04 - val_acc: 1.1759e-05\n",
      "Epoch 43/150\n",
      "4475/4475 [==============================] - 4s 938us/step - loss: 8.4921e-04 - acc: 0.0000e+00 - val_loss: 8.9237e-04 - val_acc: 1.1759e-05\n",
      "Epoch 44/150\n",
      "4475/4475 [==============================] - 4s 936us/step - loss: 8.7436e-04 - acc: 0.0000e+00 - val_loss: 8.1588e-04 - val_acc: 1.1759e-05\n",
      "Epoch 45/150\n",
      "4475/4475 [==============================] - 4s 939us/step - loss: 8.2557e-04 - acc: 0.0000e+00 - val_loss: 8.5072e-04 - val_acc: 1.1759e-05\n",
      "Epoch 46/150\n",
      "4475/4475 [==============================] - 4s 939us/step - loss: 8.2238e-04 - acc: 0.0000e+00 - val_loss: 8.3662e-04 - val_acc: 1.1759e-05\n",
      "Epoch 47/150\n",
      "4475/4475 [==============================] - 4s 939us/step - loss: 8.3766e-04 - acc: 0.0000e+00 - val_loss: 8.3885e-04 - val_acc: 1.1759e-05\n",
      "Epoch 48/150\n",
      "4475/4475 [==============================] - 4s 960us/step - loss: 8.6277e-04 - acc: 0.0000e+00 - val_loss: 8.1391e-04 - val_acc: 1.1759e-05\n",
      "Epoch 49/150\n",
      "4475/4475 [==============================] - 4s 988us/step - loss: 8.2722e-04 - acc: 0.0000e+00 - val_loss: 8.1678e-04 - val_acc: 1.1759e-05\n",
      "Epoch 50/150\n",
      "4475/4475 [==============================] - 4s 940us/step - loss: 8.3290e-04 - acc: 0.0000e+00 - val_loss: 8.2390e-04 - val_acc: 1.1759e-05\n",
      "Epoch 51/150\n",
      "4475/4475 [==============================] - 4s 941us/step - loss: 8.3104e-04 - acc: 0.0000e+00 - val_loss: 8.0608e-04 - val_acc: 1.1759e-05\n",
      "Epoch 52/150\n",
      "4475/4475 [==============================] - 4s 939us/step - loss: 8.3837e-04 - acc: 0.0000e+00 - val_loss: 9.3450e-04 - val_acc: 1.1759e-05\n",
      "Epoch 53/150\n",
      "4475/4475 [==============================] - 4s 941us/step - loss: 8.2481e-04 - acc: 0.0000e+00 - val_loss: 8.0876e-04 - val_acc: 1.1759e-05\n",
      "Epoch 54/150\n",
      "4475/4475 [==============================] - 4s 936us/step - loss: 8.1804e-04 - acc: 0.0000e+00 - val_loss: 8.0675e-04 - val_acc: 1.1759e-05\n",
      "Epoch 55/150\n",
      "4475/4475 [==============================] - 4s 934us/step - loss: 8.2684e-04 - acc: 0.0000e+00 - val_loss: 8.7995e-04 - val_acc: 1.1759e-05\n",
      "Epoch 56/150\n",
      "4475/4475 [==============================] - 4s 933us/step - loss: 8.4612e-04 - acc: 0.0000e+00 - val_loss: 9.1373e-04 - val_acc: 1.1759e-05\n",
      "Epoch 57/150\n",
      "4475/4475 [==============================] - 4s 934us/step - loss: 8.4292e-04 - acc: 0.0000e+00 - val_loss: 8.1028e-04 - val_acc: 1.1759e-05\n",
      "Epoch 58/150\n",
      "4475/4475 [==============================] - 4s 930us/step - loss: 8.1019e-04 - acc: 0.0000e+00 - val_loss: 8.2298e-04 - val_acc: 1.1759e-05\n",
      "Epoch 59/150\n",
      "4475/4475 [==============================] - 4s 931us/step - loss: 8.2422e-04 - acc: 0.0000e+00 - val_loss: 8.1430e-04 - val_acc: 1.1759e-05\n",
      "Epoch 60/150\n",
      "4475/4475 [==============================] - 4s 931us/step - loss: 8.0318e-04 - acc: 0.0000e+00 - val_loss: 8.2216e-04 - val_acc: 1.1759e-05\n",
      "Epoch 61/150\n",
      "4475/4475 [==============================] - 4s 935us/step - loss: 8.2903e-04 - acc: 0.0000e+00 - val_loss: 8.1818e-04 - val_acc: 1.1759e-05\n",
      "Epoch 62/150\n",
      "4475/4475 [==============================] - 4s 932us/step - loss: 8.1015e-04 - acc: 0.0000e+00 - val_loss: 8.5583e-04 - val_acc: 1.1759e-05\n",
      "Epoch 63/150\n",
      "4475/4475 [==============================] - 4s 935us/step - loss: 8.1728e-04 - acc: 0.0000e+00 - val_loss: 7.9469e-04 - val_acc: 1.1759e-05\n",
      "Epoch 64/150\n",
      "4475/4475 [==============================] - 4s 932us/step - loss: 8.0900e-04 - acc: 0.0000e+00 - val_loss: 7.9086e-04 - val_acc: 1.1759e-05\n",
      "Epoch 65/150\n",
      "4475/4475 [==============================] - 4s 934us/step - loss: 8.1196e-04 - acc: 0.0000e+00 - val_loss: 7.9276e-04 - val_acc: 1.1759e-05\n",
      "Epoch 66/150\n",
      "4475/4475 [==============================] - 4s 931us/step - loss: 8.0586e-04 - acc: 0.0000e+00 - val_loss: 8.1055e-04 - val_acc: 1.1759e-05\n",
      "Epoch 67/150\n",
      "4475/4475 [==============================] - 4s 933us/step - loss: 8.2202e-04 - acc: 0.0000e+00 - val_loss: 7.9426e-04 - val_acc: 1.1759e-05\n",
      "Epoch 68/150\n",
      "4475/4475 [==============================] - 4s 934us/step - loss: 8.1817e-04 - acc: 0.0000e+00 - val_loss: 8.4121e-04 - val_acc: 1.1759e-05\n",
      "Epoch 69/150\n",
      "4475/4475 [==============================] - 4s 935us/step - loss: 8.2229e-04 - acc: 0.0000e+00 - val_loss: 8.2798e-04 - val_acc: 1.1759e-05\n",
      "Epoch 70/150\n",
      "4475/4475 [==============================] - 4s 933us/step - loss: 8.0587e-04 - acc: 0.0000e+00 - val_loss: 8.1545e-04 - val_acc: 1.1759e-05\n",
      "Epoch 71/150\n",
      "4475/4475 [==============================] - 4s 933us/step - loss: 8.0837e-04 - acc: 0.0000e+00 - val_loss: 7.8228e-04 - val_acc: 1.1759e-05\n",
      "Epoch 72/150\n",
      "4475/4475 [==============================] - 4s 932us/step - loss: 8.0936e-04 - acc: 0.0000e+00 - val_loss: 7.8282e-04 - val_acc: 1.1759e-05\n",
      "Epoch 73/150\n",
      "4475/4475 [==============================] - 4s 934us/step - loss: 8.0558e-04 - acc: 0.0000e+00 - val_loss: 8.7319e-04 - val_acc: 1.1759e-05\n",
      "Epoch 74/150\n",
      "4475/4475 [==============================] - 4s 932us/step - loss: 8.0204e-04 - acc: 0.0000e+00 - val_loss: 9.1147e-04 - val_acc: 1.1759e-05\n",
      "Epoch 75/150\n",
      "4475/4475 [==============================] - 4s 932us/step - loss: 8.0375e-04 - acc: 0.0000e+00 - val_loss: 7.8146e-04 - val_acc: 1.1759e-05\n",
      "Epoch 76/150\n",
      "4475/4475 [==============================] - 4s 930us/step - loss: 8.0232e-04 - acc: 0.0000e+00 - val_loss: 8.2512e-04 - val_acc: 1.1759e-05\n",
      "Epoch 77/150\n",
      "4475/4475 [==============================] - 4s 932us/step - loss: 7.9535e-04 - acc: 0.0000e+00 - val_loss: 8.0154e-04 - val_acc: 1.1759e-05\n",
      "Epoch 78/150\n",
      "4475/4475 [==============================] - 4s 936us/step - loss: 7.9295e-04 - acc: 0.0000e+00 - val_loss: 8.0242e-04 - val_acc: 1.1759e-05\n",
      "Epoch 79/150\n",
      "4475/4475 [==============================] - 4s 932us/step - loss: 7.9136e-04 - acc: 0.0000e+00 - val_loss: 9.0989e-04 - val_acc: 1.1759e-05\n",
      "Epoch 80/150\n",
      "4475/4475 [==============================] - 4s 931us/step - loss: 7.8786e-04 - acc: 0.0000e+00 - val_loss: 7.8931e-04 - val_acc: 1.1759e-05\n",
      "Epoch 81/150\n",
      "4475/4475 [==============================] - 4s 932us/step - loss: 7.8370e-04 - acc: 0.0000e+00 - val_loss: 7.8416e-04 - val_acc: 1.1759e-05\n",
      "Epoch 82/150\n",
      "4475/4475 [==============================] - 4s 965us/step - loss: 7.7171e-04 - acc: 0.0000e+00 - val_loss: 7.7997e-04 - val_acc: 1.1759e-05\n",
      "Epoch 83/150\n",
      "4475/4475 [==============================] - 4s 941us/step - loss: 7.7555e-04 - acc: 0.0000e+00 - val_loss: 7.8071e-04 - val_acc: 1.1759e-05\n",
      "Epoch 84/150\n",
      "4475/4475 [==============================] - 4s 938us/step - loss: 7.9235e-04 - acc: 0.0000e+00 - val_loss: 7.7959e-04 - val_acc: 1.1759e-05\n",
      "Epoch 85/150\n",
      "4475/4475 [==============================] - 4s 936us/step - loss: 7.9017e-04 - acc: 0.0000e+00 - val_loss: 8.0057e-04 - val_acc: 1.1759e-05\n",
      "Epoch 86/150\n",
      "4475/4475 [==============================] - 4s 936us/step - loss: 7.6790e-04 - acc: 0.0000e+00 - val_loss: 7.7820e-04 - val_acc: 1.1759e-05\n",
      "Epoch 87/150\n",
      "4475/4475 [==============================] - 4s 935us/step - loss: 7.6299e-04 - acc: 0.0000e+00 - val_loss: 7.6197e-04 - val_acc: 1.1759e-05\n",
      "Epoch 88/150\n",
      "4475/4475 [==============================] - 4s 937us/step - loss: 7.7498e-04 - acc: 0.0000e+00 - val_loss: 8.5097e-04 - val_acc: 1.1759e-05\n",
      "Epoch 89/150\n",
      "4475/4475 [==============================] - 4s 936us/step - loss: 7.7882e-04 - acc: 0.0000e+00 - val_loss: 7.7335e-04 - val_acc: 1.1759e-05\n",
      "Epoch 90/150\n",
      "4475/4475 [==============================] - 4s 936us/step - loss: 7.4851e-04 - acc: 0.0000e+00 - val_loss: 8.0945e-04 - val_acc: 1.1759e-05\n",
      "Epoch 91/150\n",
      "4475/4475 [==============================] - 4s 938us/step - loss: 7.7484e-04 - acc: 0.0000e+00 - val_loss: 8.3297e-04 - val_acc: 1.1759e-05\n",
      "Epoch 92/150\n",
      "4475/4475 [==============================] - 4s 939us/step - loss: 7.4946e-04 - acc: 0.0000e+00 - val_loss: 7.4110e-04 - val_acc: 1.1759e-05\n",
      "Epoch 93/150\n",
      "4475/4475 [==============================] - 4s 945us/step - loss: 7.4275e-04 - acc: 0.0000e+00 - val_loss: 8.2888e-04 - val_acc: 1.1759e-05\n",
      "Epoch 94/150\n",
      "4475/4475 [==============================] - 4s 940us/step - loss: 7.6430e-04 - acc: 0.0000e+00 - val_loss: 7.4152e-04 - val_acc: 1.1759e-05\n",
      "Epoch 95/150\n",
      "4475/4475 [==============================] - 4s 938us/step - loss: 7.5594e-04 - acc: 0.0000e+00 - val_loss: 7.7407e-04 - val_acc: 1.1759e-05\n",
      "Epoch 96/150\n",
      "4475/4475 [==============================] - 4s 940us/step - loss: 7.3963e-04 - acc: 0.0000e+00 - val_loss: 7.5305e-04 - val_acc: 1.1759e-05\n",
      "Epoch 97/150\n",
      "4475/4475 [==============================] - 4s 940us/step - loss: 7.7131e-04 - acc: 0.0000e+00 - val_loss: 7.4544e-04 - val_acc: 1.1759e-05\n",
      "Epoch 98/150\n",
      "4475/4475 [==============================] - 4s 940us/step - loss: 7.4513e-04 - acc: 0.0000e+00 - val_loss: 7.9413e-04 - val_acc: 1.1759e-05\n",
      "Epoch 99/150\n",
      "4475/4475 [==============================] - 4s 942us/step - loss: 7.4182e-04 - acc: 0.0000e+00 - val_loss: 7.3071e-04 - val_acc: 1.1759e-05\n",
      "Epoch 100/150\n",
      "4475/4475 [==============================] - 4s 940us/step - loss: 7.1215e-04 - acc: 0.0000e+00 - val_loss: 8.4591e-04 - val_acc: 1.1759e-05\n",
      "Epoch 101/150\n",
      "4475/4475 [==============================] - 4s 945us/step - loss: 7.3183e-04 - acc: 0.0000e+00 - val_loss: 6.9800e-04 - val_acc: 1.1759e-05\n",
      "Epoch 102/150\n",
      "4475/4475 [==============================] - 4s 942us/step - loss: 7.1253e-04 - acc: 0.0000e+00 - val_loss: 8.0357e-04 - val_acc: 1.1759e-05\n",
      "Epoch 103/150\n",
      "4475/4475 [==============================] - 4s 940us/step - loss: 7.0227e-04 - acc: 0.0000e+00 - val_loss: 6.8186e-04 - val_acc: 1.1759e-05\n",
      "Epoch 104/150\n",
      "4475/4475 [==============================] - 4s 943us/step - loss: 7.0123e-04 - acc: 0.0000e+00 - val_loss: 7.1540e-04 - val_acc: 1.1759e-05\n",
      "Epoch 105/150\n",
      "4475/4475 [==============================] - 4s 939us/step - loss: 6.7869e-04 - acc: 0.0000e+00 - val_loss: 8.0549e-04 - val_acc: 1.1759e-05\n",
      "Epoch 106/150\n",
      "4475/4475 [==============================] - 4s 940us/step - loss: 6.7438e-04 - acc: 0.0000e+00 - val_loss: 7.0431e-04 - val_acc: 1.1759e-05\n",
      "Epoch 107/150\n"
     ]
    },
    {
     "name": "stdout",
     "output_type": "stream",
     "text": [
      "4475/4475 [==============================] - 4s 936us/step - loss: 6.7422e-04 - acc: 0.0000e+00 - val_loss: 6.6521e-04 - val_acc: 1.1759e-05\n",
      "Epoch 108/150\n",
      "4475/4475 [==============================] - 4s 930us/step - loss: 6.5805e-04 - acc: 0.0000e+00 - val_loss: 7.0798e-04 - val_acc: 1.1759e-05\n",
      "Epoch 109/150\n",
      "4475/4475 [==============================] - 4s 931us/step - loss: 6.3032e-04 - acc: 0.0000e+00 - val_loss: 6.0897e-04 - val_acc: 1.1759e-05\n",
      "Epoch 110/150\n",
      "4475/4475 [==============================] - 4s 932us/step - loss: 6.4659e-04 - acc: 0.0000e+00 - val_loss: 6.3093e-04 - val_acc: 1.1759e-05\n",
      "Epoch 111/150\n",
      "4475/4475 [==============================] - 4s 933us/step - loss: 6.0415e-04 - acc: 0.0000e+00 - val_loss: 5.8191e-04 - val_acc: 1.1759e-05\n",
      "Epoch 112/150\n",
      "4475/4475 [==============================] - 4s 936us/step - loss: 6.0634e-04 - acc: 0.0000e+00 - val_loss: 5.7125e-04 - val_acc: 1.1759e-05\n",
      "Epoch 113/150\n",
      "4475/4475 [==============================] - 4s 932us/step - loss: 5.7861e-04 - acc: 0.0000e+00 - val_loss: 5.4414e-04 - val_acc: 1.1759e-05\n",
      "Epoch 114/150\n",
      "4475/4475 [==============================] - 4s 931us/step - loss: 5.6625e-04 - acc: 0.0000e+00 - val_loss: 5.4796e-04 - val_acc: 1.1759e-05\n",
      "Epoch 115/150\n",
      "4475/4475 [==============================] - 4s 931us/step - loss: 5.4733e-04 - acc: 0.0000e+00 - val_loss: 5.6828e-04 - val_acc: 1.1759e-05\n",
      "Epoch 116/150\n",
      "4475/4475 [==============================] - 4s 931us/step - loss: 5.3139e-04 - acc: 0.0000e+00 - val_loss: 5.4396e-04 - val_acc: 1.1759e-05\n",
      "Epoch 117/150\n",
      "4475/4475 [==============================] - 4s 932us/step - loss: 5.7261e-04 - acc: 0.0000e+00 - val_loss: 5.4542e-04 - val_acc: 1.1759e-05\n",
      "Epoch 118/150\n",
      "4475/4475 [==============================] - 4s 932us/step - loss: 5.6620e-04 - acc: 0.0000e+00 - val_loss: 5.2174e-04 - val_acc: 1.1759e-05\n",
      "Epoch 119/150\n",
      "4475/4475 [==============================] - 4s 929us/step - loss: 5.2158e-04 - acc: 0.0000e+00 - val_loss: 5.4230e-04 - val_acc: 1.1759e-05\n",
      "Epoch 120/150\n",
      "4475/4475 [==============================] - 4s 933us/step - loss: 5.4408e-04 - acc: 0.0000e+00 - val_loss: 5.2290e-04 - val_acc: 1.1759e-05\n",
      "Epoch 121/150\n",
      "4475/4475 [==============================] - 4s 932us/step - loss: 5.3748e-04 - acc: 0.0000e+00 - val_loss: 5.0810e-04 - val_acc: 1.1759e-05\n",
      "Epoch 122/150\n",
      "4475/4475 [==============================] - 4s 933us/step - loss: 5.2851e-04 - acc: 0.0000e+00 - val_loss: 5.5891e-04 - val_acc: 1.1759e-05\n",
      "Epoch 123/150\n",
      "4475/4475 [==============================] - 4s 933us/step - loss: 5.5830e-04 - acc: 0.0000e+00 - val_loss: 6.3590e-04 - val_acc: 1.1759e-05\n",
      "Epoch 124/150\n",
      "4475/4475 [==============================] - 4s 932us/step - loss: 5.4298e-04 - acc: 0.0000e+00 - val_loss: 5.7785e-04 - val_acc: 1.1759e-05\n",
      "Epoch 125/150\n",
      "4475/4475 [==============================] - 4s 933us/step - loss: 5.1607e-04 - acc: 0.0000e+00 - val_loss: 5.1064e-04 - val_acc: 1.1759e-05\n",
      "Epoch 126/150\n",
      "4475/4475 [==============================] - 4s 931us/step - loss: 5.4036e-04 - acc: 0.0000e+00 - val_loss: 5.0547e-04 - val_acc: 1.1759e-05\n",
      "Epoch 127/150\n",
      "4475/4475 [==============================] - 4s 931us/step - loss: 5.3222e-04 - acc: 0.0000e+00 - val_loss: 5.0596e-04 - val_acc: 1.1759e-05\n",
      "Epoch 128/150\n",
      "4475/4475 [==============================] - 4s 931us/step - loss: 5.3883e-04 - acc: 0.0000e+00 - val_loss: 5.0839e-04 - val_acc: 1.1759e-05\n",
      "Epoch 129/150\n",
      "4475/4475 [==============================] - 4s 934us/step - loss: 5.1315e-04 - acc: 0.0000e+00 - val_loss: 5.0626e-04 - val_acc: 1.1759e-05\n",
      "Epoch 130/150\n",
      "4475/4475 [==============================] - 4s 935us/step - loss: 5.2875e-04 - acc: 0.0000e+00 - val_loss: 5.4696e-04 - val_acc: 1.1759e-05\n",
      "Epoch 131/150\n",
      "4475/4475 [==============================] - 4s 933us/step - loss: 5.2858e-04 - acc: 0.0000e+00 - val_loss: 5.0168e-04 - val_acc: 1.1759e-05\n",
      "Epoch 132/150\n",
      "4475/4475 [==============================] - 4s 935us/step - loss: 5.1456e-04 - acc: 0.0000e+00 - val_loss: 5.0082e-04 - val_acc: 1.1759e-05\n",
      "Epoch 133/150\n",
      "4475/4475 [==============================] - 4s 931us/step - loss: 4.9751e-04 - acc: 0.0000e+00 - val_loss: 5.3450e-04 - val_acc: 1.1759e-05\n",
      "Epoch 134/150\n",
      "4475/4475 [==============================] - 4s 934us/step - loss: 5.1568e-04 - acc: 0.0000e+00 - val_loss: 5.5612e-04 - val_acc: 1.1759e-05\n",
      "Epoch 135/150\n",
      "4475/4475 [==============================] - 4s 932us/step - loss: 5.1684e-04 - acc: 0.0000e+00 - val_loss: 5.2758e-04 - val_acc: 1.1759e-05\n",
      "Epoch 136/150\n",
      "4475/4475 [==============================] - 4s 933us/step - loss: 5.0645e-04 - acc: 0.0000e+00 - val_loss: 5.1316e-04 - val_acc: 1.1759e-05\n",
      "Epoch 137/150\n",
      "4475/4475 [==============================] - 4s 934us/step - loss: 5.1210e-04 - acc: 0.0000e+00 - val_loss: 5.1494e-04 - val_acc: 1.1759e-05\n",
      "Epoch 138/150\n",
      "4475/4475 [==============================] - 4s 931us/step - loss: 5.2086e-04 - acc: 0.0000e+00 - val_loss: 6.0266e-04 - val_acc: 1.1759e-05\n",
      "Epoch 139/150\n",
      "4475/4475 [==============================] - 4s 931us/step - loss: 5.3383e-04 - acc: 0.0000e+00 - val_loss: 5.1248e-04 - val_acc: 1.1759e-05\n",
      "Epoch 140/150\n",
      "4475/4475 [==============================] - 4s 931us/step - loss: 5.0417e-04 - acc: 0.0000e+00 - val_loss: 4.9855e-04 - val_acc: 1.1759e-05\n",
      "Epoch 141/150\n",
      "4475/4475 [==============================] - 4s 932us/step - loss: 5.2569e-04 - acc: 0.0000e+00 - val_loss: 5.1530e-04 - val_acc: 1.1759e-05\n",
      "Epoch 142/150\n",
      "4475/4475 [==============================] - 4s 942us/step - loss: 5.1391e-04 - acc: 0.0000e+00 - val_loss: 4.9390e-04 - val_acc: 1.1759e-05\n",
      "Epoch 143/150\n",
      "4475/4475 [==============================] - 4s 931us/step - loss: 5.0865e-04 - acc: 0.0000e+00 - val_loss: 6.2445e-04 - val_acc: 1.1759e-05\n",
      "Epoch 144/150\n",
      "4475/4475 [==============================] - 4s 937us/step - loss: 4.9813e-04 - acc: 0.0000e+00 - val_loss: 5.1525e-04 - val_acc: 1.1759e-05\n",
      "Epoch 145/150\n",
      "4475/4475 [==============================] - 4s 933us/step - loss: 5.1082e-04 - acc: 0.0000e+00 - val_loss: 5.3664e-04 - val_acc: 1.1759e-05\n",
      "Epoch 146/150\n",
      "4475/4475 [==============================] - 4s 932us/step - loss: 5.0106e-04 - acc: 0.0000e+00 - val_loss: 5.0749e-04 - val_acc: 1.1759e-05\n",
      "Epoch 147/150\n",
      "4475/4475 [==============================] - 4s 937us/step - loss: 5.0263e-04 - acc: 0.0000e+00 - val_loss: 5.2132e-04 - val_acc: 1.1759e-05\n",
      "Epoch 148/150\n",
      "4475/4475 [==============================] - 4s 933us/step - loss: 5.1272e-04 - acc: 0.0000e+00 - val_loss: 5.2622e-04 - val_acc: 1.1759e-05\n",
      "Epoch 149/150\n",
      "4475/4475 [==============================] - 4s 937us/step - loss: 5.0393e-04 - acc: 0.0000e+00 - val_loss: 4.8634e-04 - val_acc: 1.1759e-05\n",
      "Epoch 150/150\n",
      "4475/4475 [==============================] - 4s 933us/step - loss: 5.0459e-04 - acc: 0.0000e+00 - val_loss: 4.9434e-04 - val_acc: 1.1759e-05\n"
     ]
    }
   ],
   "source": [
    "history = model.fit(X_train, y_train, epochs=150, validation_data=(X_test, y_test)) # default\n",
    "\n",
    "# history = model.fit(X_train, y_train, epochs=200, validation_data=(X_test, y_test))\n",
    "\n",
    "# history = model.fit(X_train, y_train, epochs=100, validation_data=(X_test, y_test))"
   ]
  },
  {
   "cell_type": "code",
   "execution_count": 7,
   "metadata": {},
   "outputs": [],
   "source": [
    "location43_df = pd.read_csv('../different_locations/normalized_location_43.csv')  # location\n",
    "X_test_43, y_test_43 = location43_df.iloc[:, :-1], location43_df.iloc[:, -1]\n",
    "\n",
    "location2_df = pd.read_csv('../different_locations/normalized_location_2.csv')  # location\n",
    "X_test_2, y_test_2 = location2_df.iloc[:, :-1], location2_df.iloc[:, -1]\n",
    "\n",
    "location161_df = pd.read_csv('../different_locations/normalized_location_161.csv')  # location\n",
    "X_test_161, y_test_161 = location161_df.iloc[:, :-1], location161_df.iloc[:, -1]\n",
    "\n",
    "location12_df = pd.read_csv('../different_locations/normalized_location_12.csv')  # location\n",
    "X_test_12, y_test_12 = location12_df.iloc[:, :-1], location12_df.iloc[:, -1]\n",
    "\n",
    "location132_df = pd.read_csv('../different_locations/normalized_location_132.csv')  # location\n",
    "X_test_132, y_test_132 = location132_df.iloc[:, :-1], location132_df.iloc[:, -1]\n",
    "\n",
    "location138_df = pd.read_csv('../different_locations/normalized_location_138.csv')  # location\n",
    "X_test_138, y_test_138 = location138_df.iloc[:, :-1], location138_df.iloc[:, -1]\n"
   ]
  },
  {
   "cell_type": "code",
   "execution_count": 14,
   "metadata": {},
   "outputs": [
    {
     "name": "stdout",
     "output_type": "stream",
     "text": [
      "Test RMSE: 10.988136 \n",
      "Test MAE: 9.46\n",
      "Test MPE: 9.46\n"
     ]
    },
    {
     "data": {
      "image/png": "[encoded data removed]",
      "text/plain": [
       "<Figure size 432x288 with 1 Axes>"
      ]
     },
     "metadata": {
      "needs_background": "light"
     },
     "output_type": "display_data"
    }
   ],
   "source": [
    "X_test = X_test_2.values.reshape((X_test_2.shape[0], X_test_2.shape[1], n_features))\n",
    "\n",
    "results = model.predict(X_test)\n",
    "\n",
    "real_y = y_test_2* 2149\n",
    "real_predict = results*2149\n",
    "\n",
    "testScore = math.sqrt(mean_squared_error(real_y[:], real_predict[:,0]))\n",
    "testacc = statistics.mean(abs(real_y[:] - real_predict[:,0]))\n",
    "#mean_percentage_error = statistics.mean(abs(real_y[:] - real_predict[:,0])/real_y[:])\n",
    "mean_percentage_error = np.sum(abs(real_y[:] - real_predict[:,0]))/np.sum(real_y[:])\n",
    "\n",
    "print('Test RMSE: %f ' % (testScore))\n",
    "print('Test MAE: %.2f' % (testacc))\n",
    "print('Test MPE: %.2f' % (mean_percentage_error))\n",
    "\n",
    "plt.plot(range(10),real_predict[0:10,0], c='r')\n",
    "plt.plot(range(10),real_y[0:10], c='g')\n",
    "plt.show()"
   ]
  },
  {
   "cell_type": "code",
   "execution_count": 49,
   "metadata": {},
   "outputs": [],
   "source": [
    "results = model.predict(X_test)"
   ]
  },
  {
   "cell_type": "code",
   "execution_count": 6,
   "metadata": {},
   "outputs": [
    {
     "data": {
      "image/png": "[encoded data removed]",
      "text/plain": [
       "<Figure size 432x288 with 1 Axes>"
      ]
     },
     "metadata": {
      "needs_background": "light"
     },
     "output_type": "display_data"
    }
   ],
   "source": [
    "plt.scatter(range(9),results[0:9,0], c='r')\n",
    "plt.scatter(range(9),y_test[0:9], c='g')\n",
    "plt.show()"
   ]
  },
  {
   "cell_type": "code",
   "execution_count": 53,
   "metadata": {},
   "outputs": [
    {
     "data": {
      "image/png": "[encoded data removed]",
      "text/plain": [
       "<Figure size 432x288 with 1 Axes>"
      ]
     },
     "metadata": {
      "needs_background": "light"
     },
     "output_type": "display_data"
    }
   ],
   "source": [
    "plt.plot(history.history['loss'])\n",
    "plt.show()"
   ]
  },
  {
   "cell_type": "code",
   "execution_count": 52,
   "metadata": {},
   "outputs": [
    {
     "name": "stdout",
     "output_type": "stream",
     "text": [
      "Test RMSE: 0.015059 \n",
      "Test MAE: 0.01\n",
      "Test MPE: 0.15\n"
     ]
    }
   ],
   "source": [
    "testScore = math.sqrt(mean_squared_error(y_test[:], results[:,0]))\n",
    "testacc = statistics.mean(abs(y_test[:] - results[:,0]))\n",
    "mean_percentage_error = np.sum(abs(y_test[:] - results[:,0]))/np.sum(y_test[:])\n",
    "\n",
    "\n",
    "RMSE = math.sqrt(mean_squared_error(y_test[:], results[:,0]))\n",
    "\n",
    "\n",
    "MAE = statistics.mean(abs(y_test[:] - results[:,0]))\n",
    "\n",
    "\n",
    "MPE = np.sum(abs(y_test[:] - results[:,0]))/np.sum(y_test[:])\n",
    "\n",
    "\n",
    "print('Test RMSE: %f ' % (testScore))\n",
    "print('Test MAE: %.2f' % (testacc))\n",
    "print('Test MPE: %.2f' % (mean_percentage_error))"
   ]
  },
  {
   "cell_type": "code",
   "execution_count": 50,
   "metadata": {},
   "outputs": [],
   "source": [
    "real_y = y_test* 2149"
   ]
  },
  {
   "cell_type": "code",
   "execution_count": 51,
   "metadata": {},
   "outputs": [],
   "source": [
    "real_predict = results*2149"
   ]
  },
  {
   "cell_type": "code",
   "execution_count": 52,
   "metadata": {},
   "outputs": [
    {
     "name": "stdout",
     "output_type": "stream",
     "text": [
      "Test RMSE: 47.780460 \n",
      "Test MAE: 23.42\n",
      "Test MPE: 0.22\n"
     ]
    }
   ],
   "source": [
    "testScore = math.sqrt(mean_squared_error(real_y[:], real_predict[:,0]))\n",
    "testacc = statistics.mean(abs(real_y[:] - real_predict[:,0]))\n",
    "#mean_percentage_error = statistics.mean(abs(real_y[:] - real_predict[:,0])/real_y[:])\n",
    "mean_percentage_error = np.sum(abs(y_test[:] - results[:,0]))/np.sum(y_test[:])\n",
    "\n",
    "\n",
    "print('Test RMSE: %f ' % (testScore))\n",
    "print('Test MAE: %.2f' % (testacc))\n",
    "print('Test MPE: %.2f' % (mean_percentage_error))"
   ]
  },
  {
   "cell_type": "code",
   "execution_count": 54,
   "metadata": {},
   "outputs": [
    {
     "data": {
      "image/png": "[encoded data removed]",
      "text/plain": [
       "<Figure size 432x288 with 1 Axes>"
      ]
     },
     "metadata": {
      "needs_background": "light"
     },
     "output_type": "display_data"
    }
   ],
   "source": [
    "plt.plot(range(100),real_predict[0:100,0], c='r')\n",
    "plt.plot(range(100),real_y[0:100], c='g')\n",
    "plt.show()"
   ]
  },
  {
   "cell_type": "code",
   "execution_count": null,
   "metadata": {},
   "outputs": [],
   "source": []
  }
 ],
 "metadata": {
  "kernelspec": {
   "display_name": "Python 3",
   "language": "python",
   "name": "python3"
  },
  "language_info": {
   "codemirror_mode": {
    "name": "ipython",
    "version": 3
   },
   "file_extension": ".py",
   "mimetype": "text/x-python",
   "name": "python",
   "nbconvert_exporter": "python",
   "pygments_lexer": "ipython3",
   "version": "3.7.4"
  }
 },
 "nbformat": 4,
 "nbformat_minor": 2
}
