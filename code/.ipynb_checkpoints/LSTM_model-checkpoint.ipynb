{
 "cells": [
  {
   "cell_type": "code",
   "execution_count": 1,
   "metadata": {},
   "outputs": [
    {
     "name": "stderr",
     "output_type": "stream",
     "text": [
      "Using TensorFlow backend.\n"
     ]
    }
   ],
   "source": [
    "import pandas as pd\n",
    "from sklearn.metrics import mean_squared_error\n",
    "import numpy as np\n",
    "import xgboost as xgb\n",
    "from sklearn.model_selection import train_test_split\n",
    "import statistics\n",
    "from sklearn.preprocessing import normalize\n",
    "\n",
    "\n",
    "import matplotlib.pyplot as plt\n",
    "import math\n",
    "from keras.models import Sequential\n",
    "from keras.layers import Dense\n",
    "from keras.layers import LSTM\n",
    "from sklearn.preprocessing import MinMaxScaler\n",
    "from sklearn.metrics import mean_squared_error"
   ]
  },
  {
   "cell_type": "code",
   "execution_count": 37,
   "metadata": {},
   "outputs": [],
   "source": [
    "\n",
    "new_df = pd.read_csv('normalized_data_2017_01.csv')\n",
    "\n",
    "X, y = new_df.iloc[:, :-1], new_df.iloc[:, -1]\n",
    "\n",
    "\n",
    "\n",
    "X_train, X_test, y_train, y_test = train_test_split(X, y, test_size = 0.2, random_state = 123)\n",
    "\n",
    "n_steps = X_train.shape[1]\n",
    "n_features = 1\n",
    "\n",
    "X_train = X_train.values.reshape((X_train.shape[0], X_train.shape[1], n_features))\n",
    "X_test = X_test.values.reshape((X_test.shape[0], X_test.shape[1], n_features))\n",
    "\n",
    "\n",
    "model = Sequential()\n",
    "\n",
    "model.add(LSTM((50), activation='relu', batch_input_shape=(None, 6, 1), return_sequences=True))\n",
    "model.add(LSTM((1),return_sequences=False))\n",
    "model.add(Dense(1))\n",
    "\n",
    "model.compile(loss='mse', optimizer='adam',metrics=['accuracy'])\n"
   ]
  },
  {
   "cell_type": "code",
   "execution_count": 38,
   "metadata": {},
   "outputs": [
    {
     "name": "stdout",
     "output_type": "stream",
     "text": [
      "_________________________________________________________________\n",
      "Layer (type)                 Output Shape              Param #   \n",
      "=================================================================\n",
      "lstm_16 (LSTM)               (None, 6, 50)             10400     \n",
      "_________________________________________________________________\n",
      "lstm_17 (LSTM)               (None, 1)                 208       \n",
      "_________________________________________________________________\n",
      "dense_2 (Dense)              (None, 1)                 2         \n",
      "=================================================================\n",
      "Total params: 10,610\n",
      "Trainable params: 10,610\n",
      "Non-trainable params: 0\n",
      "_________________________________________________________________\n"
     ]
    }
   ],
   "source": [
    "model.summary()"
   ]
  },
  {
   "cell_type": "code",
   "execution_count": 39,
   "metadata": {},
   "outputs": [
    {
     "name": "stdout",
     "output_type": "stream",
     "text": [
      "Train on 71611 samples, validate on 17903 samples\n",
      "Epoch 1/150\n",
      "71611/71611 [==============================] - 16s 226us/step - loss: 0.0012 - acc: 1.3964e-05 - val_loss: 8.3652e-04 - val_acc: 0.0000e+00\n",
      "Epoch 2/150\n",
      "71611/71611 [==============================] - 14s 200us/step - loss: 8.5793e-04 - acc: 1.3964e-05 - val_loss: 8.3797e-04 - val_acc: 0.0000e+00\n",
      "Epoch 3/150\n",
      "71611/71611 [==============================] - 14s 202us/step - loss: 8.4315e-04 - acc: 1.3964e-05 - val_loss: 8.0489e-04 - val_acc: 0.0000e+00\n",
      "Epoch 4/150\n",
      "71611/71611 [==============================] - 15s 206us/step - loss: 8.1525e-04 - acc: 1.3964e-05 - val_loss: 6.9867e-04 - val_acc: 0.0000e+00\n",
      "Epoch 5/150\n",
      "71611/71611 [==============================] - 15s 204us/step - loss: 5.9454e-04 - acc: 1.3964e-05 - val_loss: 5.3913e-04 - val_acc: 0.0000e+00\n",
      "Epoch 6/150\n",
      "71611/71611 [==============================] - 15s 207us/step - loss: 5.0641e-04 - acc: 1.3964e-05 - val_loss: 4.6452e-04 - val_acc: 0.0000e+00\n",
      "Epoch 7/150\n",
      "71611/71611 [==============================] - 15s 205us/step - loss: 4.8979e-04 - acc: 1.3964e-05 - val_loss: 4.8304e-04 - val_acc: 0.0000e+00\n",
      "Epoch 8/150\n",
      "71611/71611 [==============================] - 15s 206us/step - loss: 4.8202e-04 - acc: 1.3964e-05 - val_loss: 5.3982e-04 - val_acc: 0.0000e+00\n",
      "Epoch 9/150\n",
      "71611/71611 [==============================] - 15s 209us/step - loss: 4.7391e-04 - acc: 1.3964e-05 - val_loss: 4.4886e-04 - val_acc: 0.0000e+00\n",
      "Epoch 10/150\n",
      "71611/71611 [==============================] - 14s 200us/step - loss: 4.7218e-04 - acc: 1.3964e-05 - val_loss: 4.5795e-04 - val_acc: 0.0000e+00\n",
      "Epoch 11/150\n",
      "71611/71611 [==============================] - 14s 199us/step - loss: 4.6096e-04 - acc: 1.3964e-05 - val_loss: 4.6263e-04 - val_acc: 0.0000e+00\n",
      "Epoch 12/150\n",
      "71611/71611 [==============================] - 14s 202us/step - loss: 4.5773e-04 - acc: 1.3964e-05 - val_loss: 4.4156e-04 - val_acc: 0.0000e+00\n",
      "Epoch 13/150\n",
      "71611/71611 [==============================] - 14s 201us/step - loss: 4.5127e-04 - acc: 1.3964e-05 - val_loss: 4.3233e-04 - val_acc: 0.0000e+00\n",
      "Epoch 14/150\n",
      "71611/71611 [==============================] - 14s 200us/step - loss: 4.4824e-04 - acc: 1.3964e-05 - val_loss: 4.6130e-04 - val_acc: 0.0000e+00\n",
      "Epoch 15/150\n",
      "71611/71611 [==============================] - 15s 209us/step - loss: 4.4487e-04 - acc: 1.3964e-05 - val_loss: 4.3662e-04 - val_acc: 0.0000e+00\n",
      "Epoch 16/150\n",
      "71611/71611 [==============================] - 14s 200us/step - loss: 4.3974e-04 - acc: 1.3964e-05 - val_loss: 4.4099e-04 - val_acc: 0.0000e+00\n",
      "Epoch 17/150\n",
      "71611/71611 [==============================] - 15s 203us/step - loss: 4.3986e-04 - acc: 1.3964e-05 - val_loss: 4.3090e-04 - val_acc: 0.0000e+00\n",
      "Epoch 18/150\n",
      "71611/71611 [==============================] - 15s 214us/step - loss: 4.3295e-04 - acc: 1.3964e-05 - val_loss: 4.2386e-04 - val_acc: 0.0000e+00\n",
      "Epoch 19/150\n",
      "71611/71611 [==============================] - 14s 202us/step - loss: 4.3104e-04 - acc: 1.3964e-05 - val_loss: 4.3846e-04 - val_acc: 0.0000e+00\n",
      "Epoch 20/150\n",
      "71611/71611 [==============================] - 15s 205us/step - loss: 4.2635e-04 - acc: 1.3964e-05 - val_loss: 4.4091e-04 - val_acc: 0.0000e+00\n",
      "Epoch 21/150\n",
      "71611/71611 [==============================] - 15s 206us/step - loss: 4.2382e-04 - acc: 1.3964e-05 - val_loss: 4.4073e-04 - val_acc: 0.0000e+00\n",
      "Epoch 22/150\n",
      "71611/71611 [==============================] - 15s 207us/step - loss: 4.1714e-04 - acc: 1.3964e-05 - val_loss: 3.9984e-04 - val_acc: 0.0000e+00\n",
      "Epoch 23/150\n",
      "71611/71611 [==============================] - 15s 205us/step - loss: 4.1784e-04 - acc: 1.3964e-05 - val_loss: 4.0154e-04 - val_acc: 0.0000e+00\n",
      "Epoch 24/150\n",
      "71611/71611 [==============================] - 15s 207us/step - loss: 4.0972e-04 - acc: 1.3964e-05 - val_loss: 3.9166e-04 - val_acc: 0.0000e+00\n",
      "Epoch 25/150\n",
      "71611/71611 [==============================] - 15s 207us/step - loss: 4.1153e-04 - acc: 1.3964e-05 - val_loss: 3.9450e-04 - val_acc: 0.0000e+00\n",
      "Epoch 26/150\n",
      "71611/71611 [==============================] - 15s 205us/step - loss: 4.0705e-04 - acc: 1.3964e-05 - val_loss: 4.0477e-04 - val_acc: 0.0000e+00\n",
      "Epoch 27/150\n",
      "71611/71611 [==============================] - 15s 205us/step - loss: 4.0485e-04 - acc: 1.3964e-05 - val_loss: 3.9464e-04 - val_acc: 0.0000e+00\n",
      "Epoch 28/150\n",
      "71611/71611 [==============================] - 15s 209us/step - loss: 4.0434e-04 - acc: 1.3964e-05 - val_loss: 4.0458e-04 - val_acc: 0.0000e+00\n",
      "Epoch 29/150\n",
      "71611/71611 [==============================] - 14s 202us/step - loss: 4.0472e-04 - acc: 1.3964e-05 - val_loss: 3.8600e-04 - val_acc: 0.0000e+00\n",
      "Epoch 30/150\n",
      "71611/71611 [==============================] - 14s 202us/step - loss: 3.9910e-04 - acc: 1.3964e-05 - val_loss: 4.0651e-04 - val_acc: 0.0000e+00\n",
      "Epoch 31/150\n",
      "71611/71611 [==============================] - 15s 203us/step - loss: 3.9807e-04 - acc: 1.3964e-05 - val_loss: 3.9489e-04 - val_acc: 0.0000e+00\n",
      "Epoch 32/150\n",
      "71611/71611 [==============================] - 15s 203us/step - loss: 3.9812e-04 - acc: 1.3964e-05 - val_loss: 3.9038e-04 - val_acc: 0.0000e+00\n",
      "Epoch 33/150\n",
      "71611/71611 [==============================] - 15s 204us/step - loss: 3.9399e-04 - acc: 1.3964e-05 - val_loss: 3.9139e-04 - val_acc: 0.0000e+00\n",
      "Epoch 34/150\n",
      "71611/71611 [==============================] - 15s 205us/step - loss: 3.9241e-04 - acc: 1.3964e-05 - val_loss: 3.8159e-04 - val_acc: 0.0000e+00\n",
      "Epoch 35/150\n",
      "71611/71611 [==============================] - 15s 205us/step - loss: 3.9434e-04 - acc: 1.3964e-05 - val_loss: 3.8646e-04 - val_acc: 0.0000e+00\n",
      "Epoch 36/150\n",
      "71611/71611 [==============================] - 15s 204us/step - loss: 3.9201e-04 - acc: 1.3964e-05 - val_loss: 3.8202e-04 - val_acc: 0.0000e+00\n",
      "Epoch 37/150\n",
      "71611/71611 [==============================] - 15s 207us/step - loss: 3.9119e-04 - acc: 1.3964e-05 - val_loss: 4.0620e-04 - val_acc: 0.0000e+00\n",
      "Epoch 38/150\n",
      "71611/71611 [==============================] - 14s 202us/step - loss: 3.8770e-04 - acc: 1.3964e-05 - val_loss: 3.7739e-04 - val_acc: 0.0000e+00\n",
      "Epoch 39/150\n",
      "71611/71611 [==============================] - 14s 202us/step - loss: 3.8846e-04 - acc: 1.3964e-05 - val_loss: 3.8678e-04 - val_acc: 0.0000e+00\n",
      "Epoch 40/150\n",
      "71611/71611 [==============================] - 14s 202us/step - loss: 3.8657e-04 - acc: 1.3964e-05 - val_loss: 3.8472e-04 - val_acc: 0.0000e+00\n",
      "Epoch 41/150\n",
      "71611/71611 [==============================] - 14s 200us/step - loss: 3.8583e-04 - acc: 1.3964e-05 - val_loss: 4.1995e-04 - val_acc: 0.0000e+00\n",
      "Epoch 42/150\n",
      "71611/71611 [==============================] - 14s 201us/step - loss: 3.8516e-04 - acc: 1.3964e-05 - val_loss: 3.7630e-04 - val_acc: 0.0000e+00\n",
      "Epoch 43/150\n",
      "71611/71611 [==============================] - 14s 202us/step - loss: 3.8341e-04 - acc: 1.3964e-05 - val_loss: 3.6948e-04 - val_acc: 0.0000e+00\n",
      "Epoch 44/150\n",
      "71611/71611 [==============================] - 15s 206us/step - loss: 3.8155e-04 - acc: 1.3964e-05 - val_loss: 3.6112e-04 - val_acc: 0.0000e+00\n",
      "Epoch 45/150\n",
      "71611/71611 [==============================] - 15s 203us/step - loss: 3.7906e-04 - acc: 1.3964e-05 - val_loss: 3.9990e-04 - val_acc: 0.0000e+00\n",
      "Epoch 46/150\n",
      "71611/71611 [==============================] - 14s 202us/step - loss: 3.8311e-04 - acc: 1.3964e-05 - val_loss: 3.7664e-04 - val_acc: 0.0000e+00\n",
      "Epoch 47/150\n",
      "71611/71611 [==============================] - 14s 202us/step - loss: 3.7895e-04 - acc: 1.3964e-05 - val_loss: 4.0424e-04 - val_acc: 0.0000e+00\n",
      "Epoch 48/150\n",
      "71611/71611 [==============================] - 14s 202us/step - loss: 3.7703e-04 - acc: 1.3964e-05 - val_loss: 3.6967e-04 - val_acc: 0.0000e+00\n",
      "Epoch 49/150\n",
      "71611/71611 [==============================] - 14s 202us/step - loss: 3.7709e-04 - acc: 1.3964e-05 - val_loss: 3.7364e-04 - val_acc: 0.0000e+00\n",
      "Epoch 50/150\n",
      "71611/71611 [==============================] - 15s 205us/step - loss: 3.7485e-04 - acc: 1.3964e-05 - val_loss: 3.6143e-04 - val_acc: 0.0000e+00\n",
      "Epoch 51/150\n",
      "71611/71611 [==============================] - 15s 204us/step - loss: 3.7234e-04 - acc: 1.3964e-05 - val_loss: 3.6070e-04 - val_acc: 0.0000e+00\n",
      "Epoch 52/150\n",
      "71611/71611 [==============================] - 15s 204us/step - loss: 3.7345e-04 - acc: 1.3964e-05 - val_loss: 3.6834e-04 - val_acc: 0.0000e+00\n"
     ]
    },
    {
     "name": "stdout",
     "output_type": "stream",
     "text": [
      "Epoch 53/150\n",
      "71611/71611 [==============================] - 15s 203us/step - loss: 3.7313e-04 - acc: 1.3964e-05 - val_loss: 3.9191e-04 - val_acc: 0.0000e+00\n",
      "Epoch 54/150\n",
      "71611/71611 [==============================] - 15s 203us/step - loss: 3.6932e-04 - acc: 1.3964e-05 - val_loss: 3.5978e-04 - val_acc: 0.0000e+00\n",
      "Epoch 55/150\n",
      "71611/71611 [==============================] - 14s 202us/step - loss: 3.6643e-04 - acc: 1.3964e-05 - val_loss: 3.5637e-04 - val_acc: 0.0000e+00\n",
      "Epoch 56/150\n",
      "71611/71611 [==============================] - 14s 201us/step - loss: 3.6682e-04 - acc: 1.3964e-05 - val_loss: 3.7194e-04 - val_acc: 0.0000e+00\n",
      "Epoch 57/150\n",
      "71611/71611 [==============================] - 14s 201us/step - loss: 3.6599e-04 - acc: 1.3964e-05 - val_loss: 3.6576e-04 - val_acc: 0.0000e+00\n",
      "Epoch 58/150\n",
      "71611/71611 [==============================] - 15s 203us/step - loss: 3.6246e-04 - acc: 1.3964e-05 - val_loss: 3.5278e-04 - val_acc: 0.0000e+00\n",
      "Epoch 59/150\n",
      "71611/71611 [==============================] - 14s 201us/step - loss: 3.6212e-04 - acc: 1.3964e-05 - val_loss: 3.4932e-04 - val_acc: 0.0000e+00\n",
      "Epoch 60/150\n",
      "71611/71611 [==============================] - 14s 202us/step - loss: 3.6241e-04 - acc: 1.3964e-05 - val_loss: 3.9180e-04 - val_acc: 0.0000e+00\n",
      "Epoch 61/150\n",
      "71611/71611 [==============================] - 14s 200us/step - loss: 3.6284e-04 - acc: 1.3964e-05 - val_loss: 3.7098e-04 - val_acc: 0.0000e+00\n",
      "Epoch 62/150\n",
      "71611/71611 [==============================] - 14s 200us/step - loss: 3.6365e-04 - acc: 1.3964e-05 - val_loss: 3.5172e-04 - val_acc: 0.0000e+00\n",
      "Epoch 63/150\n",
      "71611/71611 [==============================] - 14s 201us/step - loss: 3.5859e-04 - acc: 1.3964e-05 - val_loss: 3.7681e-04 - val_acc: 0.0000e+00\n",
      "Epoch 64/150\n",
      "71611/71611 [==============================] - 15s 203us/step - loss: 3.5809e-04 - acc: 1.3964e-05 - val_loss: 3.4584e-04 - val_acc: 0.0000e+00\n",
      "Epoch 65/150\n",
      "71611/71611 [==============================] - 14s 201us/step - loss: 3.5724e-04 - acc: 1.3964e-05 - val_loss: 3.5794e-04 - val_acc: 0.0000e+00\n",
      "Epoch 66/150\n",
      "71611/71611 [==============================] - 15s 206us/step - loss: 3.5572e-04 - acc: 1.3964e-05 - val_loss: 3.5746e-04 - val_acc: 0.0000e+00\n",
      "Epoch 67/150\n",
      "71611/71611 [==============================] - 14s 201us/step - loss: 3.5334e-04 - acc: 1.3964e-05 - val_loss: 3.5111e-04 - val_acc: 0.0000e+00\n",
      "Epoch 68/150\n",
      "71611/71611 [==============================] - 14s 202us/step - loss: 3.5541e-04 - acc: 1.3964e-05 - val_loss: 3.5390e-04 - val_acc: 0.0000e+00\n",
      "Epoch 69/150\n",
      "71611/71611 [==============================] - 14s 202us/step - loss: 3.5382e-04 - acc: 1.3964e-05 - val_loss: 3.6654e-04 - val_acc: 0.0000e+00\n",
      "Epoch 70/150\n",
      "71611/71611 [==============================] - 14s 201us/step - loss: 3.5195e-04 - acc: 1.3964e-05 - val_loss: 3.4732e-04 - val_acc: 0.0000e+00\n",
      "Epoch 71/150\n",
      "71611/71611 [==============================] - 14s 201us/step - loss: 3.5130e-04 - acc: 1.3964e-05 - val_loss: 3.5279e-04 - val_acc: 0.0000e+00\n",
      "Epoch 72/150\n",
      "71611/71611 [==============================] - 14s 201us/step - loss: 3.5035e-04 - acc: 1.3964e-05 - val_loss: 3.4066e-04 - val_acc: 0.0000e+00\n",
      "Epoch 73/150\n",
      "71611/71611 [==============================] - 14s 201us/step - loss: 3.4846e-04 - acc: 1.3964e-05 - val_loss: 3.5960e-04 - val_acc: 0.0000e+00\n",
      "Epoch 74/150\n",
      "71611/71611 [==============================] - 14s 201us/step - loss: 3.4845e-04 - acc: 1.3964e-05 - val_loss: 3.4208e-04 - val_acc: 0.0000e+00\n",
      "Epoch 75/150\n",
      "71611/71611 [==============================] - 14s 202us/step - loss: 3.4798e-04 - acc: 1.3964e-05 - val_loss: 3.7364e-04 - val_acc: 0.0000e+00\n",
      "Epoch 76/150\n",
      "71611/71611 [==============================] - 14s 202us/step - loss: 3.4518e-04 - acc: 1.3964e-05 - val_loss: 3.3793e-04 - val_acc: 0.0000e+00\n",
      "Epoch 77/150\n",
      "71611/71611 [==============================] - 14s 200us/step - loss: 3.4619e-04 - acc: 1.3964e-05 - val_loss: 3.6169e-04 - val_acc: 0.0000e+00\n",
      "Epoch 78/150\n",
      "71611/71611 [==============================] - 15s 209us/step - loss: 3.4466e-04 - acc: 1.3964e-05 - val_loss: 3.3527e-04 - val_acc: 0.0000e+00\n",
      "Epoch 79/150\n",
      "71611/71611 [==============================] - 14s 199us/step - loss: 3.4640e-04 - acc: 1.3964e-05 - val_loss: 3.3546e-04 - val_acc: 0.0000e+00\n",
      "Epoch 80/150\n",
      "71611/71611 [==============================] - 15s 203us/step - loss: 3.4419e-04 - acc: 1.3964e-05 - val_loss: 3.5184e-04 - val_acc: 0.0000e+00\n",
      "Epoch 81/150\n",
      "71611/71611 [==============================] - 14s 201us/step - loss: 3.4548e-04 - acc: 1.3964e-05 - val_loss: 3.4164e-04 - val_acc: 0.0000e+00\n",
      "Epoch 82/150\n",
      "71611/71611 [==============================] - 14s 199us/step - loss: 3.4112e-04 - acc: 1.3964e-05 - val_loss: 3.4870e-04 - val_acc: 0.0000e+00\n",
      "Epoch 83/150\n",
      "71611/71611 [==============================] - 14s 200us/step - loss: 3.4319e-04 - acc: 1.3964e-05 - val_loss: 3.4811e-04 - val_acc: 0.0000e+00\n",
      "Epoch 84/150\n",
      "71611/71611 [==============================] - 14s 201us/step - loss: 3.4102e-04 - acc: 1.3964e-05 - val_loss: 3.6501e-04 - val_acc: 0.0000e+00\n",
      "Epoch 85/150\n",
      "71611/71611 [==============================] - 14s 202us/step - loss: 3.4069e-04 - acc: 1.3964e-05 - val_loss: 3.2968e-04 - val_acc: 0.0000e+00\n",
      "Epoch 86/150\n",
      "71611/71611 [==============================] - 14s 200us/step - loss: 3.4095e-04 - acc: 1.3964e-05 - val_loss: 3.4250e-04 - val_acc: 0.0000e+00\n",
      "Epoch 87/150\n",
      "71611/71611 [==============================] - 14s 201us/step - loss: 3.3977e-04 - acc: 1.3964e-05 - val_loss: 3.3336e-04 - val_acc: 0.0000e+00\n",
      "Epoch 88/150\n",
      "71611/71611 [==============================] - 14s 201us/step - loss: 3.3724e-04 - acc: 1.3964e-05 - val_loss: 3.4057e-04 - val_acc: 0.0000e+00\n",
      "Epoch 89/150\n",
      "71611/71611 [==============================] - 14s 201us/step - loss: 3.3979e-04 - acc: 1.3964e-05 - val_loss: 3.2511e-04 - val_acc: 0.0000e+00\n",
      "Epoch 90/150\n",
      "71611/71611 [==============================] - 15s 208us/step - loss: 3.3858e-04 - acc: 1.3964e-05 - val_loss: 3.3229e-04 - val_acc: 0.0000e+00\n",
      "Epoch 91/150\n",
      "71611/71611 [==============================] - 14s 200us/step - loss: 3.3849e-04 - acc: 1.3964e-05 - val_loss: 3.3717e-04 - val_acc: 0.0000e+00\n",
      "Epoch 92/150\n",
      "71611/71611 [==============================] - 14s 200us/step - loss: 3.3688e-04 - acc: 1.3964e-05 - val_loss: 3.3796e-04 - val_acc: 0.0000e+00\n",
      "Epoch 93/150\n",
      "71611/71611 [==============================] - 14s 201us/step - loss: 3.3404e-04 - acc: 1.3964e-05 - val_loss: 3.3561e-04 - val_acc: 0.0000e+00\n",
      "Epoch 94/150\n",
      "71611/71611 [==============================] - 14s 200us/step - loss: 3.3370e-04 - acc: 1.3964e-05 - val_loss: 3.2530e-04 - val_acc: 0.0000e+00\n",
      "Epoch 95/150\n",
      "71611/71611 [==============================] - 14s 200us/step - loss: 3.3634e-04 - acc: 1.3964e-05 - val_loss: 3.4167e-04 - val_acc: 0.0000e+00\n",
      "Epoch 96/150\n",
      "71611/71611 [==============================] - 14s 200us/step - loss: 3.3313e-04 - acc: 1.3964e-05 - val_loss: 3.5978e-04 - val_acc: 0.0000e+00\n",
      "Epoch 97/150\n",
      "71611/71611 [==============================] - 14s 201us/step - loss: 3.3292e-04 - acc: 1.3964e-05 - val_loss: 3.1431e-04 - val_acc: 0.0000e+00\n",
      "Epoch 98/150\n",
      "71611/71611 [==============================] - 14s 201us/step - loss: 3.3183e-04 - acc: 1.3964e-05 - val_loss: 3.3893e-04 - val_acc: 0.0000e+00\n",
      "Epoch 99/150\n",
      "71611/71611 [==============================] - 14s 201us/step - loss: 3.3265e-04 - acc: 1.3964e-05 - val_loss: 3.3210e-04 - val_acc: 0.0000e+00\n",
      "Epoch 100/150\n",
      "71611/71611 [==============================] - 14s 201us/step - loss: 3.2990e-04 - acc: 1.3964e-05 - val_loss: 3.2392e-04 - val_acc: 0.0000e+00\n",
      "Epoch 101/150\n",
      "71611/71611 [==============================] - 14s 202us/step - loss: 3.3037e-04 - acc: 1.3964e-05 - val_loss: 3.3927e-04 - val_acc: 0.0000e+00\n",
      "Epoch 102/150\n",
      "71611/71611 [==============================] - 14s 202us/step - loss: 3.3172e-04 - acc: 1.3964e-05 - val_loss: 3.2165e-04 - val_acc: 0.0000e+00\n",
      "Epoch 103/150\n",
      "71611/71611 [==============================] - 14s 199us/step - loss: 3.3381e-04 - acc: 1.3964e-05 - val_loss: 3.4253e-04 - val_acc: 0.0000e+00\n",
      "Epoch 104/150\n",
      "71611/71611 [==============================] - 15s 204us/step - loss: 3.2782e-04 - acc: 1.3964e-05 - val_loss: 3.2519e-04 - val_acc: 0.0000e+00\n",
      "Epoch 105/150\n",
      "71611/71611 [==============================] - 14s 199us/step - loss: 3.3085e-04 - acc: 1.3964e-05 - val_loss: 3.4544e-04 - val_acc: 0.0000e+00\n",
      "Epoch 106/150\n",
      "71611/71611 [==============================] - 14s 199us/step - loss: 3.2820e-04 - acc: 1.3964e-05 - val_loss: 3.3903e-04 - val_acc: 0.0000e+00\n",
      "Epoch 107/150\n",
      "71611/71611 [==============================] - 14s 198us/step - loss: 3.2886e-04 - acc: 1.3964e-05 - val_loss: 3.3038e-04 - val_acc: 0.0000e+00\n",
      "Epoch 108/150\n",
      "71611/71611 [==============================] - 14s 199us/step - loss: 3.2919e-04 - acc: 1.3964e-05 - val_loss: 3.4052e-04 - val_acc: 0.0000e+00\n",
      "Epoch 109/150\n",
      "71611/71611 [==============================] - 14s 199us/step - loss: 3.2719e-04 - acc: 1.3964e-05 - val_loss: 3.2157e-04 - val_acc: 0.0000e+00\n",
      "Epoch 110/150\n",
      "71611/71611 [==============================] - 14s 199us/step - loss: 3.2721e-04 - acc: 1.3964e-05 - val_loss: 3.1819e-04 - val_acc: 0.0000e+00\n",
      "Epoch 111/150\n",
      "71611/71611 [==============================] - 14s 199us/step - loss: 3.2729e-04 - acc: 1.3964e-05 - val_loss: 3.1421e-04 - val_acc: 0.0000e+00\n",
      "Epoch 112/150\n",
      "71611/71611 [==============================] - 14s 199us/step - loss: 3.2502e-04 - acc: 1.3964e-05 - val_loss: 3.3298e-04 - val_acc: 0.0000e+00\n",
      "Epoch 113/150\n",
      "71611/71611 [==============================] - 14s 199us/step - loss: 3.2377e-04 - acc: 1.3964e-05 - val_loss: 3.2165e-04 - val_acc: 0.0000e+00\n",
      "Epoch 114/150\n",
      "71611/71611 [==============================] - 14s 199us/step - loss: 3.2144e-04 - acc: 1.3964e-05 - val_loss: 3.2012e-04 - val_acc: 0.0000e+00\n",
      "Epoch 115/150\n",
      "71611/71611 [==============================] - 14s 198us/step - loss: 3.2562e-04 - acc: 1.3964e-05 - val_loss: 3.2253e-04 - val_acc: 0.0000e+00\n",
      "Epoch 116/150\n",
      "71611/71611 [==============================] - 14s 198us/step - loss: 3.2597e-04 - acc: 1.3964e-05 - val_loss: 3.3846e-04 - val_acc: 0.0000e+00\n",
      "Epoch 117/150\n",
      "71611/71611 [==============================] - 14s 199us/step - loss: 3.2494e-04 - acc: 1.3964e-05 - val_loss: 3.2198e-04 - val_acc: 0.0000e+00\n",
      "Epoch 118/150\n",
      "71611/71611 [==============================] - 14s 200us/step - loss: 3.2295e-04 - acc: 1.3964e-05 - val_loss: 3.4284e-04 - val_acc: 0.0000e+00\n",
      "Epoch 119/150\n",
      "71611/71611 [==============================] - 14s 200us/step - loss: 3.2302e-04 - acc: 1.3964e-05 - val_loss: 3.3810e-04 - val_acc: 0.0000e+00\n",
      "Epoch 120/150\n",
      "71611/71611 [==============================] - 14s 199us/step - loss: 3.2477e-04 - acc: 1.3964e-05 - val_loss: 3.2492e-04 - val_acc: 0.0000e+00\n",
      "Epoch 121/150\n",
      "71611/71611 [==============================] - 14s 200us/step - loss: 3.2295e-04 - acc: 1.3964e-05 - val_loss: 3.2895e-04 - val_acc: 0.0000e+00\n",
      "Epoch 122/150\n",
      "71611/71611 [==============================] - 14s 199us/step - loss: 3.2244e-04 - acc: 1.3964e-05 - val_loss: 3.2491e-04 - val_acc: 0.0000e+00\n",
      "Epoch 123/150\n",
      "71611/71611 [==============================] - 14s 201us/step - loss: 3.2163e-04 - acc: 1.3964e-05 - val_loss: 3.2313e-04 - val_acc: 0.0000e+00\n",
      "Epoch 124/150\n",
      "71611/71611 [==============================] - 14s 199us/step - loss: 3.2352e-04 - acc: 1.3964e-05 - val_loss: 3.1437e-04 - val_acc: 0.0000e+00\n",
      "Epoch 125/150\n",
      "71611/71611 [==============================] - 14s 199us/step - loss: 3.2175e-04 - acc: 1.3964e-05 - val_loss: 3.1441e-04 - val_acc: 0.0000e+00\n",
      "Epoch 126/150\n",
      "71611/71611 [==============================] - 14s 199us/step - loss: 3.2082e-04 - acc: 1.3964e-05 - val_loss: 3.1599e-04 - val_acc: 0.0000e+00\n",
      "Epoch 127/150\n",
      "71611/71611 [==============================] - 14s 199us/step - loss: 3.1793e-04 - acc: 1.3964e-05 - val_loss: 3.1752e-04 - val_acc: 0.0000e+00\n",
      "Epoch 128/150\n",
      "71611/71611 [==============================] - 14s 199us/step - loss: 3.1898e-04 - acc: 1.3964e-05 - val_loss: 3.2146e-04 - val_acc: 0.0000e+00\n",
      "Epoch 129/150\n",
      "71611/71611 [==============================] - 14s 201us/step - loss: 3.1974e-04 - acc: 1.3964e-05 - val_loss: 3.3360e-04 - val_acc: 0.0000e+00\n",
      "Epoch 130/150\n",
      "71611/71611 [==============================] - 14s 200us/step - loss: 3.1886e-04 - acc: 1.3964e-05 - val_loss: 3.2133e-04 - val_acc: 0.0000e+00\n",
      "Epoch 131/150\n",
      "71611/71611 [==============================] - 14s 200us/step - loss: 3.1769e-04 - acc: 1.3964e-05 - val_loss: 3.2301e-04 - val_acc: 0.0000e+00\n",
      "Epoch 132/150\n",
      "71611/71611 [==============================] - 14s 198us/step - loss: 3.1755e-04 - acc: 1.3964e-05 - val_loss: 3.1722e-04 - val_acc: 0.0000e+00\n",
      "Epoch 133/150\n",
      "71611/71611 [==============================] - 14s 198us/step - loss: 3.1760e-04 - acc: 1.3964e-05 - val_loss: 3.4672e-04 - val_acc: 0.0000e+00\n",
      "Epoch 134/150\n",
      "71611/71611 [==============================] - 14s 200us/step - loss: 3.1691e-04 - acc: 1.3964e-05 - val_loss: 3.1380e-04 - val_acc: 0.0000e+00\n",
      "Epoch 135/150\n",
      "71611/71611 [==============================] - 14s 200us/step - loss: 3.1663e-04 - acc: 1.3964e-05 - val_loss: 3.1115e-04 - val_acc: 0.0000e+00\n",
      "Epoch 136/150\n",
      "71611/71611 [==============================] - 14s 198us/step - loss: 3.1766e-04 - acc: 1.3964e-05 - val_loss: 3.1292e-04 - val_acc: 0.0000e+00\n",
      "Epoch 137/150\n",
      "71611/71611 [==============================] - 14s 199us/step - loss: 3.1319e-04 - acc: 1.3964e-05 - val_loss: 3.0528e-04 - val_acc: 0.0000e+00\n",
      "Epoch 138/150\n",
      "71611/71611 [==============================] - 14s 200us/step - loss: 3.1808e-04 - acc: 1.3964e-05 - val_loss: 3.2074e-04 - val_acc: 0.0000e+00\n",
      "Epoch 139/150\n",
      "71611/71611 [==============================] - 14s 200us/step - loss: 3.1490e-04 - acc: 1.3964e-05 - val_loss: 3.0746e-04 - val_acc: 0.0000e+00\n",
      "Epoch 140/150\n",
      "71611/71611 [==============================] - 15s 208us/step - loss: 3.1642e-04 - acc: 1.3964e-05 - val_loss: 3.0617e-04 - val_acc: 0.0000e+00\n",
      "Epoch 141/150\n",
      "71611/71611 [==============================] - 14s 200us/step - loss: 3.1376e-04 - acc: 1.3964e-05 - val_loss: 3.3362e-04 - val_acc: 0.0000e+00\n",
      "Epoch 142/150\n",
      "71611/71611 [==============================] - 14s 200us/step - loss: 3.1356e-04 - acc: 1.3964e-05 - val_loss: 3.1727e-04 - val_acc: 0.0000e+00\n",
      "Epoch 143/150\n",
      "71611/71611 [==============================] - 14s 201us/step - loss: 3.1482e-04 - acc: 1.3964e-05 - val_loss: 3.3901e-04 - val_acc: 0.0000e+00\n",
      "Epoch 144/150\n",
      "71611/71611 [==============================] - 14s 201us/step - loss: 3.1376e-04 - acc: 1.3964e-05 - val_loss: 3.3752e-04 - val_acc: 0.0000e+00\n",
      "Epoch 145/150\n",
      "71611/71611 [==============================] - 15s 207us/step - loss: 3.1406e-04 - acc: 1.3964e-05 - val_loss: 3.0753e-04 - val_acc: 0.0000e+00\n",
      "Epoch 146/150\n",
      "71611/71611 [==============================] - 15s 213us/step - loss: 3.1130e-04 - acc: 1.3964e-05 - val_loss: 3.0918e-04 - val_acc: 0.0000e+00\n",
      "Epoch 147/150\n",
      "71611/71611 [==============================] - 15s 215us/step - loss: 3.1080e-04 - acc: 1.3964e-05 - val_loss: 3.0993e-04 - val_acc: 0.0000e+00\n",
      "Epoch 148/150\n",
      "71611/71611 [==============================] - 15s 214us/step - loss: 3.1107e-04 - acc: 1.3964e-05 - val_loss: 3.1019e-04 - val_acc: 0.0000e+00\n",
      "Epoch 149/150\n",
      "71611/71611 [==============================] - 15s 214us/step - loss: 3.1176e-04 - acc: 1.3964e-05 - val_loss: 3.0889e-04 - val_acc: 0.0000e+00\n",
      "Epoch 150/150\n",
      "71611/71611 [==============================] - 15s 210us/step - loss: 3.1062e-04 - acc: 1.3964e-05 - val_loss: 3.0475e-04 - val_acc: 0.0000e+00\n"
     ]
    }
   ],
   "source": [
    "history = model.fit(X_train, y_train, epochs=150, validation_data=(X_test, y_test))"
   ]
  },
  {
   "cell_type": "code",
   "execution_count": 40,
   "metadata": {},
   "outputs": [],
   "source": [
    "results = model.predict(X_test)"
   ]
  },
  {
   "cell_type": "code",
   "execution_count": 41,
   "metadata": {},
   "outputs": [
    {
     "data": {
      "image/png": "[encoded data removed]",
      "text/plain": [
       "<Figure size 432x288 with 1 Axes>"
      ]
     },
     "metadata": {
      "needs_background": "light"
     },
     "output_type": "display_data"
    }
   ],
   "source": [
    "plt.scatter(range(9),results[0:9,0], c='r')\n",
    "plt.scatter(range(9),y_test[0:9], c='g')\n",
    "plt.show()"
   ]
  },
  {
   "cell_type": "code",
   "execution_count": 42,
   "metadata": {},
   "outputs": [
    {
     "data": {
      "image/png": "[encoded data removed]",
      "text/plain": [
       "<Figure size 432x288 with 1 Axes>"
      ]
     },
     "metadata": {
      "needs_background": "light"
     },
     "output_type": "display_data"
    }
   ],
   "source": [
    "plt.plot(history.history['loss'])\n",
    "plt.show()"
   ]
  },
  {
   "cell_type": "code",
   "execution_count": 44,
   "metadata": {},
   "outputs": [
    {
     "name": "stdout",
     "output_type": "stream",
     "text": [
      "Test RMSE: 0.017457 \n",
      "Test MAE: 0.01\n",
      "Test MPE: 1.14\n"
     ]
    }
   ],
   "source": [
    "testScore = math.sqrt(mean_squared_error(y_test[:], results[:,0]))\n",
    "testacc = statistics.mean(abs(y_test[:] - results[:,0]))\n",
    "mean_percentage_error = np.sum(abs(y_test[:] - results[:,0]))/np.sum(y_test[:])\n",
    "\n",
    "print('Test RMSE: %f ' % (testScore))\n",
    "print('Test MAE: %.2f' % (testacc))\n",
    "print('Test MPE: %.2f' % (mean_percentage_error))"
   ]
  },
  {
   "cell_type": "code",
   "execution_count": 50,
   "metadata": {},
   "outputs": [],
   "source": [
    "real_y = y_test* 2149"
   ]
  },
  {
   "cell_type": "code",
   "execution_count": 51,
   "metadata": {},
   "outputs": [],
   "source": [
    "real_predict = results*2149"
   ]
  },
  {
   "cell_type": "code",
   "execution_count": 52,
   "metadata": {},
   "outputs": [
    {
     "name": "stdout",
     "output_type": "stream",
     "text": [
      "Test RMSE: 37.515026 \n",
      "Test MAE: 18.05\n",
      "Test MPE: 1.14\n"
     ]
    }
   ],
   "source": [
    "testScore = math.sqrt(mean_squared_error(real_y[:], real_predict[:,0]))\n",
    "testacc = statistics.mean(abs(real_y[:] - real_predict[:,0]))\n",
    "#mean_percentage_error = statistics.mean(abs(real_y[:] - real_predict[:,0])/real_y[:])\n",
    "mean_percentage_error = np.sum(abs(y_test[:] - results[:,0]))/np.sum(y_test[:])\n",
    "\n",
    "\n",
    "print('Test RMSE: %f ' % (testScore))\n",
    "print('Test MAE: %.2f' % (testacc))\n",
    "print('Test MPE: %.2f' % (mean_percentage_error))"
   ]
  },
  {
   "cell_type": "code",
   "execution_count": 63,
   "metadata": {},
   "outputs": [
    {
     "data": {
      "image/png": "[encoded data removed]",
      "text/plain": [
       "<Figure size 432x288 with 1 Axes>"
      ]
     },
     "metadata": {
      "needs_background": "light"
     },
     "output_type": "display_data"
    }
   ],
   "source": [
    "plt.plot(range(100),real_predict[0:100,0], c='r')\n",
    "plt.plot(range(100),real_y[0:100], c='g')\n",
    "plt.show()"
   ]
  },
  {
   "cell_type": "code",
   "execution_count": null,
   "metadata": {},
   "outputs": [],
   "source": []
  }
 ],
 "metadata": {
  "kernelspec": {
   "display_name": "Python 3",
   "language": "python",
   "name": "python3"
  },
  "language_info": {
   "codemirror_mode": {
    "name": "ipython",
    "version": 3
   },
   "file_extension": ".py",
   "mimetype": "text/x-python",
   "name": "python",
   "nbconvert_exporter": "python",
   "pygments_lexer": "ipython3",
   "version": "3.7.4"
  }
 },
 "nbformat": 4,
 "nbformat_minor": 2
}
