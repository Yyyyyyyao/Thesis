{
 "cells": [
  {
   "cell_type": "code",
   "execution_count": 1,
   "metadata": {},
   "outputs": [],
   "source": [
    "import pandas as pd\n",
    "import numpy as np"
   ]
  },
  {
   "cell_type": "code",
   "execution_count": null,
   "metadata": {},
   "outputs": [],
   "source": [
    "dateparse = lambda x: pd.datetime.strptime(x, '%Y-%m-%d %H:%M:%S')\n",
    "new_df = pd.read_csv('yellow_tripdata_2017-01.csv', parse_dates=['tpep_pickup_datetime'], date_parser=dateparse)\n",
    "\n",
    "df = new_df[['tpep_pickup_datetime', 'PULocationID']]\n",
    "\n",
    "df['Hours'] = new_df['tpep_pickup_datetime'].dt.hour\n",
    "df['Date'] = new_df['tpep_pickup_datetime'].dt.date\n",
    "df\n",
    "\n",
    "\n",
    "\n",
    "test_df = pd.DataFrame({'count' : df.groupby( ['PULocationID', 'Date', 'Hours'] ).size()}).reset_index()\n",
    "test_df"
   ]
  }
 ],
 "metadata": {
  "kernelspec": {
   "display_name": "Python 3",
   "language": "python",
   "name": "python3"
  },
  "language_info": {
   "codemirror_mode": {
    "name": "ipython",
    "version": 3
   },
   "file_extension": ".py",
   "mimetype": "text/x-python",
   "name": "python",
   "nbconvert_exporter": "python",
   "pygments_lexer": "ipython3",
   "version": "3.7.4"
  }
 },
 "nbformat": 4,
 "nbformat_minor": 2
}
